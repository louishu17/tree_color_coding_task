{
 "metadata": {
  "language_info": {
   "codemirror_mode": {
    "name": "ipython",
    "version": 3
   },
   "file_extension": ".py",
   "mimetype": "text/x-python",
   "name": "python",
   "nbconvert_exporter": "python",
   "pygments_lexer": "ipython3",
   "version": 3
  },
  "orig_nbformat": 4
 },
 "nbformat": 4,
 "nbformat_minor": 2,
 "cells": [
  {
   "cell_type": "code",
   "execution_count": null,
   "metadata": {},
   "outputs": [],
   "source": [
    "#A file for final vizualizations for simulation 1\n",
    "import nbformat\n",
    "import pandas as pd \n",
    "import numpy as np \n",
    "import matplotlib as plot\n",
    "from matplotlib import pyplot as plt\n",
    "from nbconvert import HTMLExporter\n",
    "from pandas import DataFrame\n",
    "import seaborn as sns"
   ]
  },
  {
   "cell_type": "code",
   "execution_count": null,
   "metadata": {},
   "outputs": [],
   "source": [
    "# A vizualization to show time with changing K for simulation 1, \n",
    "# n = 40\n",
    "sim1_k = pd.read_csv('/Users/kieranlele/PycharmProjects/Data+Networks/tree_color_coding_task-1/vis_sim1/data/sim1/k_1/test_csv.csv')\n",
    "sns.lineplot(data = sim1_k, x = 'K', y = 'time').set(xlabel = 'K', ylabel = 'Time (Seconds)', title = 'Time as K Changes')\n",
    "sns.set_style(\"darkgrid\", {'ytick.left' : True, 'xtick.bottom': True, 'axes.spines.left': True, 'grid.color': '1', 'axes.edgecolor': '0', 'axes.spines.right': False, \"axes.facecolor\": \".9\"})\n",
    "sns.set_context(\"talk\")\n",
    "sns.despine(right = True, top=True)\n",
    "sns.set_palette(\"PiYG\", 10)\n",
    "sim1_k"
   ]
  },
  {
   "cell_type": "code",
   "execution_count": null,
   "metadata": {},
   "outputs": [],
   "source": [
    "# A vizualization to show time with changing n for simulation 1\n",
    "# m = 3, 0 = .5, K = 2\n",
    "sim1_n = pd.read_csv('/Users/kieranlele/PycharmProjects/Data+Networks/tree_color_coding_task/vis_sim1/data/sim1/n_3/inf_n_3.csv')\n",
    "sns.scatterplot(data = sim1_n, x = 'n', y = 'time').set(xlabel = 'n', ylabel = 'Time (Seconds)', title = 'Time as N Changes')\n",
    "sns.set_style(\"darkgrid\", {'ytick.left' : True, 'xtick.bottom': True, 'axes.spines.left': True, 'grid.color': '1', 'axes.edgecolor': '0', 'axes.spines.right': False, \"axes.facecolor\": \".9\"})\n",
    "sns.set_context(\"talk\")\n",
    "sns.despine(right = True, top=True)\n",
    "sns.set_palette(\"PiYG\", 10)\n",
    "sim1_n"
   ]
  },
  {
   "cell_type": "code",
   "execution_count": null,
   "metadata": {},
   "outputs": [],
   "source": [
    "# A vizualization to show changing error for simulation 1\n",
    "# m = 3, 0 = .5, K = 2\n",
    "sim1_n = pd.read_csv('/Users/kieranlele/PycharmProjects/Data+Networks/tree_color_coding_task-1/vis_sim1/data/sim1/n_3/inf_n_3.csv')\n",
    "sim1_n['err'] = sim1_n['err'].abs()\n",
    "sim1_n = sim1_n[sim1_n['err'] < .15]\n",
    "sns.scatterplot(data = sim1_n, x = 'n', y = 'err').set(xlabel = 'n', ylabel = 'Error', title = 'Error as N Changes')\n",
    "sns.set_style(\"darkgrid\", {'ytick.left' : True, 'xtick.bottom': True, 'axes.spines.left': True, 'grid.color': '1', 'axes.edgecolor': '0', 'axes.spines.right': False, \"axes.facecolor\": \".9\"})\n",
    "sns.set_context(\"talk\")\n",
    "sns.despine(right = True, top=True)\n",
    "sns.set_palette(\"PiYG\", 10)"
   ]
  }
 ]
}