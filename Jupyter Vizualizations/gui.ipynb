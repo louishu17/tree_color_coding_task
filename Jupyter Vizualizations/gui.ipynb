{
 "cells": [
  {
   "cell_type": "code",
   "execution_count": 1,
   "source": [
    "import nbformat\n",
    "import pandas as pd \n",
    "import numpy as np \n",
    "import matplotlib as plot\n",
    "from matplotlib import pyplot as plt\n",
    "from nbconvert import HTMLExporter\n",
    "from pandas import DataFrame\n",
    "import seaborn as sns\n",
    "from sklearn.cluster import KMeans\n",
    "import tkinter as tk\n",
    "from matplotlib.backends.backend_tkagg import FigureCanvasTkAgg\n",
    "import tkinter as tk\n",
    "from tkinter import filedialog\n",
    "import random as rd\n",
    "from itertools import combinations\n",
    "import sys\n",
    "from PyQt5.QtWidgets import QApplication, QWidget, QPushButton, QVBoxLayout"
   ],
   "outputs": [],
   "metadata": {}
  },
  {
   "cell_type": "code",
   "execution_count": 2,
   "source": [
    "app = QApplication([])\n",
    "window = QWidget()\n",
    "layout = QVBoxLayout()\n",
    "layout.addWidget(QPushButton('Top'))\n",
    "layout.addWidget(QPushButton('Bottom'))\n",
    "window.setLayout(layout)\n",
    "window.show()\n",
    "app.setStyle('Fusion')\n",
    "app.exec()"
   ],
   "outputs": [
    {
     "output_type": "execute_result",
     "data": {
      "text/plain": [
       "0"
      ]
     },
     "metadata": {},
     "execution_count": 2
    }
   ],
   "metadata": {}
  },
  {
   "cell_type": "code",
   "execution_count": null,
   "source": [
    "#practice tkinter\n",
    "global df_three\n",
    "df_two = df\n",
    "root= tk.Tk()\n",
    "\n",
    "canvas1 = tk.Canvas(root, width = 400, height = 300,  relief = 'raised')\n",
    "canvas1.pack()\n",
    "\n",
    "label1 = tk.Label(root, text='K Means Clustering for Facebook')\n",
    "label1.config(font=('helvetica', 14))\n",
    "canvas1.create_window(200, 25, window=label1)\n",
    "\n",
    "label2 = tk.Label(root, text='School #3')\n",
    "label2.config(font=('helvetica', 10))\n",
    "canvas1.create_window(200, 140, window=label2)\n",
    "\n",
    "entry1 = tk.Entry (root) \n",
    "canvas1.create_window(200, 160, window=entry1)\n",
    "\n",
    "label3 = tk.Label(root, text='School #1')\n",
    "label3.config(font=('helvetica', 10))\n",
    "canvas1.create_window(200, 60, window=label3)\n",
    "\n",
    "label4 = tk.Label(root, text='School #2')\n",
    "label4.config(font=('helvetica', 10))\n",
    "canvas1.create_window(200, 100, window=label4)\n",
    "\n",
    "entry3 = tk.Entry (root)\n",
    "canvas1.create_window(200, 120, window=entry3)\n",
    "\n",
    "entry2 = tk.Entry (root)\n",
    "canvas1.create_window(200, 80, window=entry2)\n",
    "\n",
    "def choose_schools ():\n",
    "    global df_three\n",
    "    school3 = entry2.get()\n",
    "    \n",
    "'''\n",
    "browseSchools = tk.Button(text=\" Choose School \", command=choose_school, bg='green', fg='white',  font=('helvetica', 10, 'bold'))\n",
    "canvas1.create_window(200, 140, window=browseSchools)\n",
    "'''\n",
    "\n",
    "def getKMeans ():\n",
    "    global numberOfClusters\n",
    "    global df_three\n",
    "    numberOfClusters = int(entry1.get())\n",
    "    df_three = entry2.get()\n",
    "    \n",
    "    kmeans = KMeans(n_clusters=numberOfClusters).fit(df)\n",
    "    centroids = kmeans.cluster_centers_\n",
    "    \n",
    "    label4 = tk.Label(root, text= centroids)\n",
    "    #canvas1.create_window(200, 250, window=label4)\n",
    "    \n",
    "    figure1 = plt.Figure(figsize=(4,3), dpi=100)\n",
    "    ax1 = figure1.add_subplot(111)\n",
    "    ax1.scatter(df_two[df_three], df_two[df_three], c= kmeans.labels_.astype(float), s=50, alpha=0.5)\n",
    "    ax1.scatter(centroids[:, 0], centroids[:, 1], c='red', s=50)\n",
    "    scatter1 = FigureCanvasTkAgg(figure1, root) \n",
    "    scatter1.get_tk_widget().pack(side=tk.RIGHT, fill=tk.BOTH)\n",
    "    \n",
    "processButton = tk.Button(text=' Process k-Means ', command=getKMeans, bg='brown', fg='blue', font=('helvetica', 16, 'bold'))\n",
    "canvas1.create_window(200, 240, window=processButton)\n",
    "\n",
    "root.mainloop()"
   ],
   "outputs": [],
   "metadata": {}
  }
 ],
 "metadata": {
  "orig_nbformat": 4,
  "language_info": {
   "name": "python",
   "version": "3.8.8",
   "mimetype": "text/x-python",
   "codemirror_mode": {
    "name": "ipython",
    "version": 3
   },
   "pygments_lexer": "ipython3",
   "nbconvert_exporter": "python",
   "file_extension": ".py"
  },
  "kernelspec": {
   "name": "python3",
   "display_name": "Python 3.8.8 64-bit ('base': conda)"
  },
  "interpreter": {
   "hash": "bb105db6ad8a7a6b0630e2ed8b19c1a562c9a8de9e7bb7154988b4d47a64822e"
  }
 },
 "nbformat": 4,
 "nbformat_minor": 2
}