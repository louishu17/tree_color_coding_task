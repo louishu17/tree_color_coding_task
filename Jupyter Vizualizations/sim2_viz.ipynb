{
 "metadata": {
  "language_info": {
   "codemirror_mode": {
    "name": "ipython",
    "version": 3
   },
   "file_extension": ".py",
   "mimetype": "text/x-python",
   "name": "python",
   "nbconvert_exporter": "python",
   "pygments_lexer": "ipython3",
   "version": 3
  },
  "orig_nbformat": 4
 },
 "nbformat": 4,
 "nbformat_minor": 2,
 "cells": [
  {
   "cell_type": "code",
   "execution_count": null,
   "metadata": {},
   "outputs": [],
   "source": [
    "#A file for final vizualizations\n",
    "import nbformat\n",
    "import pandas as pd \n",
    "import numpy as np \n",
    "import matplotlib as plot\n",
    "from matplotlib import pyplot as plt\n",
    "from nbconvert import HTMLExporter\n",
    "from pandas import DataFrame\n",
    "import seaborn as sns"
   ]
  },
  {
   "cell_type": "code",
   "execution_count": null,
   "metadata": {},
   "outputs": [],
   "source": [
    "# A visualization to show changing simulation 2 output as s changes\n",
    "# m = 20, n = 100, p = 0.1, K = 4\n",
    "sim2_s = pd.read_csv('vis_sim1/data/sim2/s_4/dat_s_4.csv')\n",
    "sns.scatterplot(data = sim2_s, x = 's', y = 'corr', color=['blue'], label=\"correlated\")\n",
    "sns.scatterplot(data = sim2_s, x = 's', y = 'ind', color=['purple'], label=\"independent\").set(xlabel = 's', ylabel = 'Proportion', title = 'Proportion as s changes')\n",
    "sns.set_style(\"darkgrid\", {'ytick.left' : True, 'xtick.bottom': True, 'axes.spines.left': True, 'grid.color': '1', 'axes.edgecolor': '0', 'axes.spines.right': False, \"axes.facecolor\": \".9\"})\n",
    "sns.set_context(\"talk\")\n",
    "sns.despine(right = True, top=True)"
   ]
  }
 ]
}