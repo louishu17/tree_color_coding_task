{
 "metadata": {
  "language_info": {
   "codemirror_mode": {
    "name": "ipython",
    "version": 3
   },
   "file_extension": ".py",
   "mimetype": "text/x-python",
   "name": "python",
   "nbconvert_exporter": "python",
   "pygments_lexer": "ipython3",
   "version": 3
  },
  "orig_nbformat": 4
 },
 "nbformat": 4,
 "nbformat_minor": 2,
 "cells": [
  {
   "cell_type": "code",
   "execution_count": null,
   "metadata": {},
   "outputs": [],
   "source": [
    "#A file for final vizualizations\n",
    "import nbformat\n",
    "import pandas as pd \n",
    "import numpy as np \n",
    "import matplotlib as plot\n",
    "from matplotlib import pyplot as plt\n",
    "from nbconvert import HTMLExporter\n",
    "from pandas import DataFrame\n",
    "import seaborn as sns"
   ]
  },
  {
   "cell_type": "code",
   "execution_count": null,
   "metadata": {},
   "outputs": [],
   "source": [
    "#Algorithm 1 k timings with n = 100\n",
    "ktimings_100 = [[1, 2, 3, 4, 5, 6, 7, 8, 9, 10], [0.026302814483642578, 0.07784605026245117, 0.2284069061279297, 0.6995840072631836, 1.2053868770599365, 3.547654867172241, 7.790452003479004, 15.954632997512817, 33.446934938430786, 90.75474524497986]]\n",
    "ktimings_100 = np.array(ktimings_100)\n",
    "ktimings_100_df = DataFrame(ktimings_100).transpose()\n",
    "ktimings_100_df.columns = ['K','Time']\n",
    "sns.set_style(\"darkgrid\", {\"axes.facecolor\": \".9\"});\n",
    "sns.set_context('poster')\n",
    "ktimings_100_plot = sns.lineplot(data =ktimings_100_df, x= 'K', y= 'Time').set(xlabel='K', ylabel = 'Time (In Seconds)', title = \"Timings for Changing K with N = 100\")\n",
    "ktimings_100_df.style.bar(subset=[\"Time\"], color= 'lightgreen')\n"
   ]
  },
  {
   "cell_type": "code",
   "execution_count": null,
   "metadata": {},
   "outputs": [],
   "source": [
    "#Algorithm 1 timings with n = 1000\n",
    "ktimings_1000 = [[1, 2, 3, 4, 5, 6, 7, 8, 9], [1.984386920928955, 8.349667072296143, 29.2798593044281, 59.883057832717896, 160.79108881950378, 345.1164617538452, 678.8631312847137, 1529.5059268474579, 6928.64704823494]]\n",
    "ktimings_1000 = np.array(ktimings_1000)\n",
    "ktimings_1000_df = DataFrame(ktimings_1000).transpose()\n",
    "ktimings_1000_df.columns = ['K','Time']\n",
    "sns.set_style(\"darkgrid\", {\"axes.facecolor\": \".9\"});\n",
    "sns.set_context('poster')\n",
    "ktimings_1000_plot = sns.lineplot(data =ktimings_1000_df, x= 'K', y= 'Time').set(xlabel='K', ylabel = 'Time (In Seconds)', title = \"Timings for Changing K with N = 1000\")\n",
    "ktimings_1000_df.style.bar(subset=[\"Time\"], color= 'lightgreen')"
   ]
  }
 ]
}