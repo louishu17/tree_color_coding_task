{
 "metadata": {
  "language_info": {
   "codemirror_mode": {
    "name": "ipython",
    "version": 3
   },
   "file_extension": ".py",
   "mimetype": "text/x-python",
   "name": "python",
   "nbconvert_exporter": "python",
   "pygments_lexer": "ipython3",
   "version": "3.8.8"
  },
  "orig_nbformat": 4,
  "kernelspec": {
   "name": "python3",
   "display_name": "Python 3.8.8 64-bit ('base': conda)"
  },
  "interpreter": {
   "hash": "bb105db6ad8a7a6b0630e2ed8b19c1a562c9a8de9e7bb7154988b4d47a64822e"
  }
 },
 "nbformat": 4,
 "nbformat_minor": 2,
 "cells": [
  {
   "cell_type": "code",
   "execution_count": 3,
   "metadata": {},
   "outputs": [
    {
     "output_type": "execute_result",
     "data": {
      "text/plain": [
       "   pid     weight      height                       date\n",
       "0  133  80.079983  204.932739 2021-06-15 18:57:06.048875\n",
       "1  207  75.774722  159.054967 2021-06-16 18:57:06.048875\n",
       "2  659  85.484491  180.417390 2021-06-17 18:57:06.048875\n",
       "3  581  92.282780  188.536939 2021-06-18 18:57:06.048875\n",
       "4  593  74.080773  172.651248 2021-06-19 18:57:06.048875"
      ],
      "text/html": "<div>\n<style scoped>\n    .dataframe tbody tr th:only-of-type {\n        vertical-align: middle;\n    }\n\n    .dataframe tbody tr th {\n        vertical-align: top;\n    }\n\n    .dataframe thead th {\n        text-align: right;\n    }\n</style>\n<table border=\"1\" class=\"dataframe\">\n  <thead>\n    <tr style=\"text-align: right;\">\n      <th></th>\n      <th>pid</th>\n      <th>weight</th>\n      <th>height</th>\n      <th>date</th>\n    </tr>\n  </thead>\n  <tbody>\n    <tr>\n      <th>0</th>\n      <td>133</td>\n      <td>80.079983</td>\n      <td>204.932739</td>\n      <td>2021-06-15 18:57:06.048875</td>\n    </tr>\n    <tr>\n      <th>1</th>\n      <td>207</td>\n      <td>75.774722</td>\n      <td>159.054967</td>\n      <td>2021-06-16 18:57:06.048875</td>\n    </tr>\n    <tr>\n      <th>2</th>\n      <td>659</td>\n      <td>85.484491</td>\n      <td>180.417390</td>\n      <td>2021-06-17 18:57:06.048875</td>\n    </tr>\n    <tr>\n      <th>3</th>\n      <td>581</td>\n      <td>92.282780</td>\n      <td>188.536939</td>\n      <td>2021-06-18 18:57:06.048875</td>\n    </tr>\n    <tr>\n      <th>4</th>\n      <td>593</td>\n      <td>74.080773</td>\n      <td>172.651248</td>\n      <td>2021-06-19 18:57:06.048875</td>\n    </tr>\n  </tbody>\n</table>\n</div>"
     },
     "metadata": {},
     "execution_count": 3
    }
   ],
   "source": [
    "from collections import OrderedDict\n",
    "import pandas as pd\n",
    "import numpy as np\n",
    "n = 5\n",
    "dates = pd.date_range(start='now', periods=n, freq='d')\n",
    "df = pd.DataFrame(OrderedDict(pid=np.random.randint(100, 999, n), \n",
    "                              weight=np.random.normal(70, 20, n),\n",
    "                              height=np.random.normal(170, 15, n),\n",
    "                              date=dates,\n",
    "                             ))\n",
    "df\n"
   ]
  },
  {
   "cell_type": "code",
   "execution_count": null,
   "metadata": {},
   "outputs": [],
   "source": []
  }
 ]
}